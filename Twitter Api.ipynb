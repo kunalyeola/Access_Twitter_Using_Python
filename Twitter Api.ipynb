{
 "cells": [
  {
   "cell_type": "code",
   "execution_count": 1,
   "metadata": {},
   "outputs": [
    {
     "name": "stdout",
     "output_type": "stream",
     "text": [
      "Collecting package metadata (current_repodata.json): ...working... done\n",
      "Note: you may need to restart the kernel to use updated packages.\n",
      "Solving environment: ...working... done\n",
      "\n",
      "# All requested packages already installed.\n",
      "\n",
      "\n"
     ]
    }
   ],
   "source": [
    "import json\n",
    "%conda install -c pytorch pytorch torchvision"
   ]
  },
  {
   "cell_type": "code",
   "execution_count": 2,
   "metadata": {},
   "outputs": [],
   "source": [
    "cred={}\n",
    "cred['AK50gmo7rfw7nTs62j9IMZOWb']='api key'\n",
    "cred['mulNhzB9lo9Xc7ZAu5GtypcXEKTbl2cBId8DD4wGjS2vz1E70s']='api secret key'\n",
    "cred['AAAAAAAAAAAAAAAAAAAAAD%2BdMAEAAAAAgu8QE5lcz%2FgB7dge6rdCw%2FBLje8%3DlQtOE2jPAhcvm5KVrSj2LcYVzShXwX36woSA5PeacVta1dt4Qd']='beare token'"
   ]
  },
  {
   "cell_type": "code",
   "execution_count": null,
   "metadata": {},
   "outputs": [],
   "source": [
    "pip install tweepy"
   ]
  },
  {
   "cell_type": "code",
   "execution_count": 3,
   "metadata": {},
   "outputs": [],
   "source": [
    "import tweepy\n",
    "import webbrowser\n",
    "import time"
   ]
  },
  {
   "cell_type": "code",
   "execution_count": 6,
   "metadata": {},
   "outputs": [],
   "source": [
    "consumer_key=\"AK50gmo7rfw7nTs62j9IMZOWb\"\n",
    "consumer_secret=\"mulNhzB9lo9Xc7ZAu5GtypcXEKTbl2cBId8DD4wGjS2vz1E70s\""
   ]
  },
  {
   "cell_type": "code",
   "execution_count": 7,
   "metadata": {},
   "outputs": [],
   "source": [
    "callback_url='oob'"
   ]
  },
  {
   "cell_type": "code",
   "execution_count": 8,
   "metadata": {},
   "outputs": [
    {
     "name": "stdout",
     "output_type": "stream",
     "text": [
      "https://api.twitter.com/oauth/authorize?oauth_token=RIEskAAAAAABMJ0_AAABd0OiPMY\n"
     ]
    }
   ],
   "source": [
    "auth=tweepy.OAuthHandler(consumer_key,consumer_secret,callback_url)\n",
    "redirect_url=auth.get_authorization_url()\n",
    "print(redirect_url)"
   ]
  },
  {
   "cell_type": "code",
   "execution_count": 9,
   "metadata": {},
   "outputs": [
    {
     "data": {
      "text/plain": [
       "True"
      ]
     },
     "execution_count": 9,
     "metadata": {},
     "output_type": "execute_result"
    }
   ],
   "source": [
    "webbrowser.open(redirect_url)"
   ]
  },
  {
   "cell_type": "code",
   "execution_count": 10,
   "metadata": {},
   "outputs": [
    {
     "name": "stdout",
     "output_type": "stream",
     "text": [
      "what is the pin0569063\n"
     ]
    }
   ],
   "source": [
    "user_pint_input=input(\"what is the pin\")"
   ]
  },
  {
   "cell_type": "code",
   "execution_count": 11,
   "metadata": {},
   "outputs": [
    {
     "data": {
      "text/plain": [
       "'0569063'"
      ]
     },
     "execution_count": 11,
     "metadata": {},
     "output_type": "execute_result"
    }
   ],
   "source": [
    "user_pint_input"
   ]
  },
  {
   "cell_type": "code",
   "execution_count": 12,
   "metadata": {},
   "outputs": [
    {
     "data": {
      "text/plain": [
       "('1353573898084900866-UxguIY7dUs9DL68Cpw9jlwpf54ZEmX',\n",
       " 'Y3L5UUNfKrUHKy57BCKxET7a37y4eSkxW0P2WcuDnoqVb')"
      ]
     },
     "execution_count": 12,
     "metadata": {},
     "output_type": "execute_result"
    }
   ],
   "source": [
    "auth.get_access_token(user_pint_input)"
   ]
  },
  {
   "cell_type": "code",
   "execution_count": 13,
   "metadata": {},
   "outputs": [
    {
     "name": "stdout",
     "output_type": "stream",
     "text": [
      "1353573898084900866-UxguIY7dUs9DL68Cpw9jlwpf54ZEmX Y3L5UUNfKrUHKy57BCKxET7a37y4eSkxW0P2WcuDnoqVb\n"
     ]
    }
   ],
   "source": [
    "print(auth.access_token,auth.access_token_secret)"
   ]
  },
  {
   "cell_type": "code",
   "execution_count": 14,
   "metadata": {},
   "outputs": [],
   "source": [
    "api=tweepy.API(auth)"
   ]
  },
  {
   "cell_type": "code",
   "execution_count": 15,
   "metadata": {},
   "outputs": [],
   "source": [
    "me=api.me()"
   ]
  },
  {
   "cell_type": "code",
   "execution_count": 16,
   "metadata": {},
   "outputs": [
    {
     "name": "stdout",
     "output_type": "stream",
     "text": [
      "yeola_kunal\n"
     ]
    }
   ],
   "source": [
    "print(me.screen_name)"
   ]
  },
  {
   "cell_type": "code",
   "execution_count": 17,
   "metadata": {},
   "outputs": [
    {
     "name": "stdout",
     "output_type": "stream",
     "text": [
      "Requirement already satisfied: twython in c:\\users\\protech\\anaconda3\\lib\\site-packages (3.8.2)Note: you may need to restart the kernel to use updated packages.\n",
      "\n",
      "Requirement already satisfied: requests>=2.1.0 in c:\\users\\protech\\anaconda3\\lib\\site-packages (from twython) (2.24.0)\n",
      "Requirement already satisfied: requests-oauthlib>=0.4.0 in c:\\users\\protech\\anaconda3\\lib\\site-packages (from twython) (1.3.0)\n",
      "Requirement already satisfied: certifi>=2017.4.17 in c:\\users\\protech\\anaconda3\\lib\\site-packages (from requests>=2.1.0->twython) (2020.12.5)\n",
      "Requirement already satisfied: idna<3,>=2.5 in c:\\users\\protech\\anaconda3\\lib\\site-packages (from requests>=2.1.0->twython) (2.10)\n",
      "Requirement already satisfied: urllib3!=1.25.0,!=1.25.1,<1.26,>=1.21.1 in c:\\users\\protech\\anaconda3\\lib\\site-packages (from requests>=2.1.0->twython) (1.25.9)\n",
      "Requirement already satisfied: chardet<4,>=3.0.2 in c:\\users\\protech\\anaconda3\\lib\\site-packages (from requests>=2.1.0->twython) (3.0.4)\n",
      "Requirement already satisfied: oauthlib>=3.0.0 in c:\\users\\protech\\anaconda3\\lib\\site-packages (from requests-oauthlib>=0.4.0->twython) (3.1.0)\n"
     ]
    }
   ],
   "source": [
    "pip install twython"
   ]
  },
  {
   "cell_type": "code",
   "execution_count": 19,
   "metadata": {},
   "outputs": [],
   "source": [
    "from twython import Twython\n",
    "import json"
   ]
  },
  {
   "cell_type": "code",
   "execution_count": 20,
   "metadata": {},
   "outputs": [],
   "source": [
    "cred={}\n",
    "cred['CONSUMER_KEY']=\"AK50gmo7rfw7nTs62j9IMZOWb\"\n",
    "cred['CONSUMER_SECRET']='mulNhzB9lo9Xc7ZAu5GtypcXEKTbl2cBId8DD4wGjS2vz1E70s'\n",
    "cred['ACCESS_TOKEN']='1353573898084900866-UxguIY7dUs9DL68Cpw9jlwpf54ZEmX'\n",
    "cred['ACCESS_SECRET']='Y3L5UUNfKrUHKy57BCKxET7a37y4eSkxW0P2WcuDnoqVb'\n"
   ]
  },
  {
   "cell_type": "code",
   "execution_count": 21,
   "metadata": {},
   "outputs": [],
   "source": [
    "with open(\"Twitter_cred.json\",\"w\") as file:\n",
    "    json.dump(cred,file)\n",
    "    "
   ]
  },
  {
   "cell_type": "code",
   "execution_count": 22,
   "metadata": {},
   "outputs": [],
   "source": [
    "with open(\"Twitter_cred.json\",\"r\")as file:\n",
    "    creds=json.load(file)"
   ]
  },
  {
   "cell_type": "code",
   "execution_count": 23,
   "metadata": {},
   "outputs": [
    {
     "name": "stdout",
     "output_type": "stream",
     "text": [
      "{'CONSUMER_KEY': 'AK50gmo7rfw7nTs62j9IMZOWb', 'CONSUMER_SECRET': 'mulNhzB9lo9Xc7ZAu5GtypcXEKTbl2cBId8DD4wGjS2vz1E70s', 'ACCESS_TOKEN': '1353573898084900866-UxguIY7dUs9DL68Cpw9jlwpf54ZEmX', 'ACCESS_SECRET': 'Y3L5UUNfKrUHKy57BCKxET7a37y4eSkxW0P2WcuDnoqVb'}\n"
     ]
    }
   ],
   "source": [
    "print(creds)"
   ]
  },
  {
   "cell_type": "code",
   "execution_count": 24,
   "metadata": {},
   "outputs": [],
   "source": [
    "python_tweets= Twython(creds['CONSUMER_KEY'],creds['CONSUMER_SECRET'])\n",
    "\n",
    "query={\n",
    "    'q':'learn python',\n",
    "    'result_type':'popular',\n",
    "    'count':'10',\n",
    "    'lang':'en',\n",
    "    }"
   ]
  },
  {
   "cell_type": "code",
   "execution_count": 25,
   "metadata": {},
   "outputs": [],
   "source": [
    "import pandas as pd\n",
    "from twython import TwythonStreamer"
   ]
  },
  {
   "cell_type": "code",
   "execution_count": 26,
   "metadata": {},
   "outputs": [
    {
     "data": {
      "text/html": [
       "<div>\n",
       "<style scoped>\n",
       "    .dataframe tbody tr th:only-of-type {\n",
       "        vertical-align: middle;\n",
       "    }\n",
       "\n",
       "    .dataframe tbody tr th {\n",
       "        vertical-align: top;\n",
       "    }\n",
       "\n",
       "    .dataframe thead th {\n",
       "        text-align: right;\n",
       "    }\n",
       "</style>\n",
       "<table border=\"1\" class=\"dataframe\">\n",
       "  <thead>\n",
       "    <tr style=\"text-align: right;\">\n",
       "      <th></th>\n",
       "      <th>user</th>\n",
       "      <th>date</th>\n",
       "      <th>text</th>\n",
       "      <th>favorite_count</th>\n",
       "    </tr>\n",
       "  </thead>\n",
       "  <tbody>\n",
       "    <tr>\n",
       "      <th>0</th>\n",
       "      <td>TensorFlow</td>\n",
       "      <td>Fri Jan 22 17:59:31 +0000 2021</td>\n",
       "      <td>🔍 Learn how to train a custom object detection...</td>\n",
       "      <td>414</td>\n",
       "    </tr>\n",
       "    <tr>\n",
       "      <th>1</th>\n",
       "      <td>fbOpenSource</td>\n",
       "      <td>Thu Jan 21 18:00:00 +0000 2021</td>\n",
       "      <td>⚡OSS Project Spotlight ⚡\\n\\nPyre is a performa...</td>\n",
       "      <td>53</td>\n",
       "    </tr>\n",
       "  </tbody>\n",
       "</table>\n",
       "</div>"
      ],
      "text/plain": [
       "           user                            date  \\\n",
       "0    TensorFlow  Fri Jan 22 17:59:31 +0000 2021   \n",
       "1  fbOpenSource  Thu Jan 21 18:00:00 +0000 2021   \n",
       "\n",
       "                                                text  favorite_count  \n",
       "0  🔍 Learn how to train a custom object detection...             414  \n",
       "1  ⚡OSS Project Spotlight ⚡\\n\\nPyre is a performa...              53  "
      ]
     },
     "execution_count": 26,
     "metadata": {},
     "output_type": "execute_result"
    }
   ],
   "source": [
    "# Search tweets\n",
    "dict_ = {'user': [], 'date': [], 'text': [], 'favorite_count': []}\n",
    "for status in python_tweets.search(**query)['statuses']:\n",
    "    dict_['user'].append(status['user']['screen_name'])\n",
    "    dict_['date'].append(status['created_at'])\n",
    "    dict_['text'].append(status['text'])\n",
    "    dict_['favorite_count'].append(status['favorite_count'])\n",
    "\n",
    "# Structure data in a pandas DataFrame for easier manipulation\n",
    "df = pd.DataFrame(dict_)\n",
    "df.sort_values(by='favorite_count', inplace=True, ascending=False)\n",
    "df.head(5)"
   ]
  },
  {
   "cell_type": "code",
   "execution_count": null,
   "metadata": {},
   "outputs": [],
   "source": []
  },
  {
   "cell_type": "code",
   "execution_count": null,
   "metadata": {},
   "outputs": [],
   "source": []
  },
  {
   "cell_type": "code",
   "execution_count": null,
   "metadata": {},
   "outputs": [],
   "source": []
  },
  {
   "cell_type": "code",
   "execution_count": null,
   "metadata": {},
   "outputs": [],
   "source": []
  }
 ],
 "metadata": {
  "kernelspec": {
   "display_name": "Python 3",
   "language": "python",
   "name": "python3"
  }
 },
 "nbformat": 4,
 "nbformat_minor": 4
}
